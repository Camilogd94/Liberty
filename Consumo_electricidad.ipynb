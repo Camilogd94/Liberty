{
 "cells": [
  {
   "cell_type": "markdown",
   "metadata": {},
   "source": [
    "# Consumo de electricidad\n",
    "\n",
    "Andrés Camilo Gaitán Díaz\n",
    "\n",
    "Base - Individual household electric power consumption Data Set\n",
    "\n",
    "\n",
    "### Attribute Information:\n",
    "\n",
    "1. date: Date in format dd/mm/yyyy\n",
    "2. time: time in format hh:mm:ss\n",
    "3. global_active_power: household global minute-averaged active power (in kilowatt)\n",
    "4. global_reactive_power: household global minute-averaged reactive power (in kilowatt)\n",
    "5. voltage: minute-averaged voltage (in volt)\n",
    "6. global_intensity: household global minute-averaged current intensity (in ampere)\n",
    "7. sub_metering_1: energy sub-metering No. 1 (in watt-hour of active energy). It corresponds to the kitchen, containing mainly a dishwasher, an oven and a microwave (hot plates are not electric but gas powered).\n",
    "8. sub_metering_2: energy sub-metering No. 2 (in watt-hour of active energy). It corresponds to the laundry room, containing a washing-machine, a tumble-drier, a refrigerator and a light.\n",
    "9. sub_metering_3: energy sub-metering No. 3 (in watt-hour of active energy). It corresponds to an electric water-heater and an air-conditioner.\n",
    "\n",
    "### Data Set Information:\n",
    "\n",
    "This archive contains 2075259 measurements gathered in a house located in Sceaux (7km of Paris, France) between December 2006 and November 2010 (47 months).\n",
    "Notes:\n",
    "1. (global_active_power*1000/60 - sub_metering_1 - sub_metering_2 - sub_metering_3) represents the active energy consumed every minute (in watt hour) in the household by electrical equipment not measured in sub-meterings 1, 2 and 3.\n",
    "2. The dataset contains some missing values in the measurements (nearly 1,25% of the rows). All calendar timestamps are present in the dataset but for some timestamps, the measurement values are missing: a missing value is represented by the absence of value between two consecutive semi-colon attribute separators. For instance, the dataset shows missing values on April 28, 2007.\n",
    "\n",
    "\n",
    "\n"
   ]
  },
  {
   "cell_type": "markdown",
   "metadata": {},
   "source": [
    "# Data"
   ]
  },
  {
   "cell_type": "code",
   "execution_count": 152,
   "metadata": {},
   "outputs": [],
   "source": [
    "## Paquetes a utilizar\n",
    "\n",
    "import pandas as pd  #Para uso de Dataframes\n",
    "import numpy as np  ## Para \n",
    "import matplotlib.pyplot as plt  ## Para gráficos\n"
   ]
  },
  {
   "cell_type": "code",
   "execution_count": 153,
   "metadata": {
    "scrolled": true
   },
   "outputs": [
    {
     "name": "stderr",
     "output_type": "stream",
     "text": [
      "c:\\users\\andre\\appdata\\local\\programs\\python\\python37\\lib\\site-packages\\IPython\\core\\interactiveshell.py:3337: DtypeWarning: Columns (2,3,4,5,6,7) have mixed types.Specify dtype option on import or set low_memory=False.\n",
      "  if (await self.run_code(code, result,  async_=asy)):\n"
     ]
    },
    {
     "data": {
      "text/html": [
       "<div>\n",
       "<style scoped>\n",
       "    .dataframe tbody tr th:only-of-type {\n",
       "        vertical-align: middle;\n",
       "    }\n",
       "\n",
       "    .dataframe tbody tr th {\n",
       "        vertical-align: top;\n",
       "    }\n",
       "\n",
       "    .dataframe thead th {\n",
       "        text-align: right;\n",
       "    }\n",
       "</style>\n",
       "<table border=\"1\" class=\"dataframe\">\n",
       "  <thead>\n",
       "    <tr style=\"text-align: right;\">\n",
       "      <th></th>\n",
       "      <th>Date</th>\n",
       "      <th>Time</th>\n",
       "      <th>Global_active_power</th>\n",
       "      <th>Global_reactive_power</th>\n",
       "      <th>Voltage</th>\n",
       "      <th>Global_intensity</th>\n",
       "      <th>Sub_metering_1</th>\n",
       "      <th>Sub_metering_2</th>\n",
       "      <th>Sub_metering_3</th>\n",
       "    </tr>\n",
       "  </thead>\n",
       "  <tbody>\n",
       "    <tr>\n",
       "      <th>0</th>\n",
       "      <td>16/12/2006</td>\n",
       "      <td>17:24:00</td>\n",
       "      <td>4.216</td>\n",
       "      <td>0.418</td>\n",
       "      <td>234.840</td>\n",
       "      <td>18.400</td>\n",
       "      <td>0.000</td>\n",
       "      <td>1.000</td>\n",
       "      <td>17.0</td>\n",
       "    </tr>\n",
       "    <tr>\n",
       "      <th>1</th>\n",
       "      <td>16/12/2006</td>\n",
       "      <td>17:25:00</td>\n",
       "      <td>5.360</td>\n",
       "      <td>0.436</td>\n",
       "      <td>233.630</td>\n",
       "      <td>23.000</td>\n",
       "      <td>0.000</td>\n",
       "      <td>1.000</td>\n",
       "      <td>16.0</td>\n",
       "    </tr>\n",
       "    <tr>\n",
       "      <th>2</th>\n",
       "      <td>16/12/2006</td>\n",
       "      <td>17:26:00</td>\n",
       "      <td>5.374</td>\n",
       "      <td>0.498</td>\n",
       "      <td>233.290</td>\n",
       "      <td>23.000</td>\n",
       "      <td>0.000</td>\n",
       "      <td>2.000</td>\n",
       "      <td>17.0</td>\n",
       "    </tr>\n",
       "    <tr>\n",
       "      <th>3</th>\n",
       "      <td>16/12/2006</td>\n",
       "      <td>17:27:00</td>\n",
       "      <td>5.388</td>\n",
       "      <td>0.502</td>\n",
       "      <td>233.740</td>\n",
       "      <td>23.000</td>\n",
       "      <td>0.000</td>\n",
       "      <td>1.000</td>\n",
       "      <td>17.0</td>\n",
       "    </tr>\n",
       "    <tr>\n",
       "      <th>4</th>\n",
       "      <td>16/12/2006</td>\n",
       "      <td>17:28:00</td>\n",
       "      <td>3.666</td>\n",
       "      <td>0.528</td>\n",
       "      <td>235.680</td>\n",
       "      <td>15.800</td>\n",
       "      <td>0.000</td>\n",
       "      <td>1.000</td>\n",
       "      <td>17.0</td>\n",
       "    </tr>\n",
       "  </tbody>\n",
       "</table>\n",
       "</div>"
      ],
      "text/plain": [
       "         Date      Time Global_active_power Global_reactive_power  Voltage  \\\n",
       "0  16/12/2006  17:24:00               4.216                 0.418  234.840   \n",
       "1  16/12/2006  17:25:00               5.360                 0.436  233.630   \n",
       "2  16/12/2006  17:26:00               5.374                 0.498  233.290   \n",
       "3  16/12/2006  17:27:00               5.388                 0.502  233.740   \n",
       "4  16/12/2006  17:28:00               3.666                 0.528  235.680   \n",
       "\n",
       "  Global_intensity Sub_metering_1 Sub_metering_2  Sub_metering_3  \n",
       "0           18.400          0.000          1.000            17.0  \n",
       "1           23.000          0.000          1.000            16.0  \n",
       "2           23.000          0.000          2.000            17.0  \n",
       "3           23.000          0.000          1.000            17.0  \n",
       "4           15.800          0.000          1.000            17.0  "
      ]
     },
     "execution_count": 153,
     "metadata": {},
     "output_type": "execute_result"
    }
   ],
   "source": [
    "Data = pd.read_table('./household_power_consumption.txt', sep = ';')\n",
    "Data.head()"
   ]
  },
  {
   "cell_type": "code",
   "execution_count": 154,
   "metadata": {
    "scrolled": true
   },
   "outputs": [
    {
     "data": {
      "text/plain": [
       "(2075259, 9)"
      ]
     },
     "execution_count": 154,
     "metadata": {},
     "output_type": "execute_result"
    }
   ],
   "source": [
    "## Dimensiones de la información\n",
    "Data.shape"
   ]
  },
  {
   "cell_type": "code",
   "execution_count": 155,
   "metadata": {},
   "outputs": [
    {
     "data": {
      "text/plain": [
       "Index(['Date', 'Time', 'Global_active_power', 'Global_reactive_power',\n",
       "       'Voltage', 'Global_intensity', 'Sub_metering_1', 'Sub_metering_2',\n",
       "       'Sub_metering_3'],\n",
       "      dtype='object')"
      ]
     },
     "execution_count": 155,
     "metadata": {},
     "output_type": "execute_result"
    }
   ],
   "source": [
    "## Copia sobre la original\n",
    "df = Data.copy()\n",
    "df.columns"
   ]
  },
  {
   "cell_type": "markdown",
   "metadata": {},
   "source": [
    "# Data Wrangling"
   ]
  },
  {
   "cell_type": "code",
   "execution_count": 156,
   "metadata": {
    "scrolled": false
   },
   "outputs": [
    {
     "data": {
      "text/plain": [
       "Date                      object\n",
       "Time                      object\n",
       "Global_active_power       object\n",
       "Global_reactive_power     object\n",
       "Voltage                   object\n",
       "Global_intensity          object\n",
       "Sub_metering_1            object\n",
       "Sub_metering_2            object\n",
       "Sub_metering_3           float64\n",
       "dtype: object"
      ]
     },
     "execution_count": 156,
     "metadata": {},
     "output_type": "execute_result"
    }
   ],
   "source": [
    "## Verirficcar tipos de datos\n",
    "df.dtypes"
   ]
  },
  {
   "cell_type": "code",
   "execution_count": 157,
   "metadata": {},
   "outputs": [
    {
     "data": {
      "text/plain": [
       "Date                     0.000000\n",
       "Time                     0.000000\n",
       "Global_active_power      0.000000\n",
       "Global_reactive_power    0.000000\n",
       "Voltage                  0.000000\n",
       "Global_intensity         0.000000\n",
       "Sub_metering_1           0.000000\n",
       "Sub_metering_2           0.000000\n",
       "Sub_metering_3           1.251844\n",
       "dtype: float64"
      ]
     },
     "execution_count": 157,
     "metadata": {},
     "output_type": "execute_result"
    }
   ],
   "source": [
    "## Verificar NAs\n",
    "\n",
    "100*df.isna().sum()/Data.shape[0]"
   ]
  },
  {
   "cell_type": "code",
   "execution_count": 158,
   "metadata": {
    "scrolled": true
   },
   "outputs": [
    {
     "data": {
      "text/plain": [
       "Global_active_power  Global_reactive_power  Global_intensity  Voltage\n",
       "?                    ?                      ?                 ?          25979\n",
       "0.360                0.078                  1.600             241.180      400\n",
       "0.080                0.000                  0.200             240.250       45\n",
       "                                                              240.780       40\n",
       "                                                              240.060       37\n",
       "                                                                         ...  \n",
       "1.414                0.094                  5.800             239.940        1\n",
       "                                                              239.980        1\n",
       "                                                              240.000        1\n",
       "                                                              240.080        1\n",
       "0.21                 0.07400000000000001    1.0               233.42         1\n",
       "Length: 1845087, dtype: int64"
      ]
     },
     "execution_count": 158,
     "metadata": {},
     "output_type": "execute_result"
    }
   ],
   "source": [
    "## Encontrar valores diferentes\n",
    "df[['Global_active_power','Global_reactive_power','Global_intensity', 'Voltage']].value_counts()"
   ]
  },
  {
   "cell_type": "code",
   "execution_count": 159,
   "metadata": {},
   "outputs": [],
   "source": [
    "## Borar todos lo valores que tengasn el signo encontrado\n",
    "df = df.drop(df[df['Global_active_power'] == '?'].index)\n",
    "df = df.dropna()"
   ]
  },
  {
   "cell_type": "code",
   "execution_count": 160,
   "metadata": {},
   "outputs": [
    {
     "data": {
      "text/plain": [
       "1.2518437457685962"
      ]
     },
     "execution_count": 160,
     "metadata": {},
     "output_type": "execute_result"
    }
   ],
   "source": [
    "## Información total\n",
    "100 - 100*df.shape[0]/Data.shape[0]"
   ]
  },
  {
   "cell_type": "code",
   "execution_count": 161,
   "metadata": {},
   "outputs": [],
   "source": [
    "## Cambiar  tpos de datos\n",
    "df['Date'] = pd.to_datetime(df['Date'])\n",
    "df['Global_active_power'] = df['Global_active_power'].astype(float)\n",
    "df['Global_reactive_power'] = df['Global_reactive_power'].astype(float)\n",
    "df['Voltage'] = df['Voltage'].astype(float)\n",
    "df['Global_intensity'] = df['Global_intensity'].astype(float)\n",
    "df['Sub_metering_1'] = df['Sub_metering_1'].astype(float)\n",
    "df['Sub_metering_2'] = df['Sub_metering_2'].astype(float)\n",
    "df['Sub_metering_3'] = df['Sub_metering_3'].astype(float)"
   ]
  },
  {
   "cell_type": "code",
   "execution_count": 162,
   "metadata": {},
   "outputs": [],
   "source": [
    "##  Creación de consumo total\n",
    "\n",
    "df['Total'] = df['Global_active_power']*1000/60 - df['Sub_metering_1'] - df['Sub_metering_2'] - df['Sub_metering_3']\n",
    "df['Total_sum'] = df['Global_active_power']*1000/60"
   ]
  },
  {
   "cell_type": "code",
   "execution_count": 163,
   "metadata": {},
   "outputs": [
    {
     "data": {
      "text/html": [
       "<div>\n",
       "<style scoped>\n",
       "    .dataframe tbody tr th:only-of-type {\n",
       "        vertical-align: middle;\n",
       "    }\n",
       "\n",
       "    .dataframe tbody tr th {\n",
       "        vertical-align: top;\n",
       "    }\n",
       "\n",
       "    .dataframe thead th {\n",
       "        text-align: right;\n",
       "    }\n",
       "</style>\n",
       "<table border=\"1\" class=\"dataframe\">\n",
       "  <thead>\n",
       "    <tr style=\"text-align: right;\">\n",
       "      <th></th>\n",
       "      <th>Date</th>\n",
       "      <th>Time</th>\n",
       "      <th>Global_active_power</th>\n",
       "      <th>Global_reactive_power</th>\n",
       "      <th>Voltage</th>\n",
       "      <th>Global_intensity</th>\n",
       "      <th>Sub_metering_1</th>\n",
       "      <th>Sub_metering_2</th>\n",
       "      <th>Sub_metering_3</th>\n",
       "      <th>Total</th>\n",
       "      <th>Total_sum</th>\n",
       "    </tr>\n",
       "  </thead>\n",
       "  <tbody>\n",
       "    <tr>\n",
       "      <th>0</th>\n",
       "      <td>2006-12-16</td>\n",
       "      <td>17:24:00</td>\n",
       "      <td>4.216</td>\n",
       "      <td>0.418</td>\n",
       "      <td>234.84</td>\n",
       "      <td>18.4</td>\n",
       "      <td>0.0</td>\n",
       "      <td>1.0</td>\n",
       "      <td>17.0</td>\n",
       "      <td>52.266667</td>\n",
       "      <td>70.266667</td>\n",
       "    </tr>\n",
       "    <tr>\n",
       "      <th>1</th>\n",
       "      <td>2006-12-16</td>\n",
       "      <td>17:25:00</td>\n",
       "      <td>5.360</td>\n",
       "      <td>0.436</td>\n",
       "      <td>233.63</td>\n",
       "      <td>23.0</td>\n",
       "      <td>0.0</td>\n",
       "      <td>1.0</td>\n",
       "      <td>16.0</td>\n",
       "      <td>72.333333</td>\n",
       "      <td>89.333333</td>\n",
       "    </tr>\n",
       "    <tr>\n",
       "      <th>2</th>\n",
       "      <td>2006-12-16</td>\n",
       "      <td>17:26:00</td>\n",
       "      <td>5.374</td>\n",
       "      <td>0.498</td>\n",
       "      <td>233.29</td>\n",
       "      <td>23.0</td>\n",
       "      <td>0.0</td>\n",
       "      <td>2.0</td>\n",
       "      <td>17.0</td>\n",
       "      <td>70.566667</td>\n",
       "      <td>89.566667</td>\n",
       "    </tr>\n",
       "    <tr>\n",
       "      <th>3</th>\n",
       "      <td>2006-12-16</td>\n",
       "      <td>17:27:00</td>\n",
       "      <td>5.388</td>\n",
       "      <td>0.502</td>\n",
       "      <td>233.74</td>\n",
       "      <td>23.0</td>\n",
       "      <td>0.0</td>\n",
       "      <td>1.0</td>\n",
       "      <td>17.0</td>\n",
       "      <td>71.800000</td>\n",
       "      <td>89.800000</td>\n",
       "    </tr>\n",
       "    <tr>\n",
       "      <th>4</th>\n",
       "      <td>2006-12-16</td>\n",
       "      <td>17:28:00</td>\n",
       "      <td>3.666</td>\n",
       "      <td>0.528</td>\n",
       "      <td>235.68</td>\n",
       "      <td>15.8</td>\n",
       "      <td>0.0</td>\n",
       "      <td>1.0</td>\n",
       "      <td>17.0</td>\n",
       "      <td>43.100000</td>\n",
       "      <td>61.100000</td>\n",
       "    </tr>\n",
       "  </tbody>\n",
       "</table>\n",
       "</div>"
      ],
      "text/plain": [
       "        Date      Time  Global_active_power  Global_reactive_power  Voltage  \\\n",
       "0 2006-12-16  17:24:00                4.216                  0.418   234.84   \n",
       "1 2006-12-16  17:25:00                5.360                  0.436   233.63   \n",
       "2 2006-12-16  17:26:00                5.374                  0.498   233.29   \n",
       "3 2006-12-16  17:27:00                5.388                  0.502   233.74   \n",
       "4 2006-12-16  17:28:00                3.666                  0.528   235.68   \n",
       "\n",
       "   Global_intensity  Sub_metering_1  Sub_metering_2  Sub_metering_3  \\\n",
       "0              18.4             0.0             1.0            17.0   \n",
       "1              23.0             0.0             1.0            16.0   \n",
       "2              23.0             0.0             2.0            17.0   \n",
       "3              23.0             0.0             1.0            17.0   \n",
       "4              15.8             0.0             1.0            17.0   \n",
       "\n",
       "       Total  Total_sum  \n",
       "0  52.266667  70.266667  \n",
       "1  72.333333  89.333333  \n",
       "2  70.566667  89.566667  \n",
       "3  71.800000  89.800000  \n",
       "4  43.100000  61.100000  "
      ]
     },
     "execution_count": 163,
     "metadata": {},
     "output_type": "execute_result"
    }
   ],
   "source": [
    "df.head()"
   ]
  },
  {
   "cell_type": "code",
   "execution_count": 168,
   "metadata": {},
   "outputs": [],
   "source": [
    "## Crear un DF que contenga el total de cada variable de acuerdo al mes de interés\n",
    "\n",
    "prom= pd.DataFrame(df['Total'].groupby([(df['Date'].dt.year),(df['Date'].dt.month)]).sum())\n",
    "prom['Total_sum'] = pd.DataFrame(df['Total_sum'].groupby([(df['Date'].dt.year),(df['Date'].dt.month)]).sum())\n",
    "prom['sub_1']= pd.DataFrame(df['Sub_metering_1'].groupby([(df['Date'].dt.year),(df['Date'].dt.month)]).sum())\n",
    "prom['sub_2']= pd.DataFrame(df['Sub_metering_2'].groupby([(df['Date'].dt.year),(df['Date'].dt.month)]).sum())\n",
    "prom['sub_3']= pd.DataFrame(df['Sub_metering_3'].groupby([(df['Date'].dt.year),(df['Date'].dt.month)]).sum())\n",
    "prom['Voltage']= pd.DataFrame(df['Voltage'].groupby([(df['Date'].dt.year),(df['Date'].dt.month)]).mean())\n",
    "prom['Global_intensity']= pd.DataFrame(df['Global_intensity'].groupby([(df['Date'].dt.year),(df['Date'].dt.month)]).mean())\n",
    "prom['Global_reactive_power']= pd.DataFrame(df['Global_intensity'].groupby([(df['Date'].dt.year),(df['Date'].dt.month)]).mean())"
   ]
  },
  {
   "cell_type": "code",
   "execution_count": 169,
   "metadata": {
    "scrolled": true
   },
   "outputs": [
    {
     "data": {
      "text/html": [
       "<div>\n",
       "<style scoped>\n",
       "    .dataframe tbody tr th:only-of-type {\n",
       "        vertical-align: middle;\n",
       "    }\n",
       "\n",
       "    .dataframe tbody tr th {\n",
       "        vertical-align: top;\n",
       "    }\n",
       "\n",
       "    .dataframe thead th {\n",
       "        text-align: right;\n",
       "    }\n",
       "</style>\n",
       "<table border=\"1\" class=\"dataframe\">\n",
       "  <thead>\n",
       "    <tr style=\"text-align: right;\">\n",
       "      <th></th>\n",
       "      <th>Year</th>\n",
       "      <th>Month</th>\n",
       "      <th>Total</th>\n",
       "      <th>Total_sum</th>\n",
       "      <th>sub_1</th>\n",
       "      <th>sub_2</th>\n",
       "      <th>sub_3</th>\n",
       "      <th>Voltage</th>\n",
       "      <th>Global_intensity</th>\n",
       "      <th>Global_reactive_power</th>\n",
       "    </tr>\n",
       "  </thead>\n",
       "  <tbody>\n",
       "    <tr>\n",
       "      <th>0</th>\n",
       "      <td>2006</td>\n",
       "      <td>12</td>\n",
       "      <td>457765.033333</td>\n",
       "      <td>6.968880e+05</td>\n",
       "      <td>27460.0</td>\n",
       "      <td>48712.0</td>\n",
       "      <td>162951.0</td>\n",
       "      <td>241.441125</td>\n",
       "      <td>8.029956</td>\n",
       "      <td>8.029956</td>\n",
       "    </tr>\n",
       "    <tr>\n",
       "      <th>1</th>\n",
       "      <td>2007</td>\n",
       "      <td>1</td>\n",
       "      <td>601322.900000</td>\n",
       "      <td>1.063262e+06</td>\n",
       "      <td>72455.0</td>\n",
       "      <td>66382.0</td>\n",
       "      <td>323102.0</td>\n",
       "      <td>240.149795</td>\n",
       "      <td>6.063914</td>\n",
       "      <td>6.063914</td>\n",
       "    </tr>\n",
       "    <tr>\n",
       "      <th>2</th>\n",
       "      <td>2007</td>\n",
       "      <td>2</td>\n",
       "      <td>441926.466667</td>\n",
       "      <td>7.760505e+05</td>\n",
       "      <td>35733.0</td>\n",
       "      <td>65508.0</td>\n",
       "      <td>232883.0</td>\n",
       "      <td>239.871289</td>\n",
       "      <td>4.895550</td>\n",
       "      <td>4.895550</td>\n",
       "    </tr>\n",
       "    <tr>\n",
       "      <th>3</th>\n",
       "      <td>2007</td>\n",
       "      <td>3</td>\n",
       "      <td>494800.733333</td>\n",
       "      <td>9.212927e+05</td>\n",
       "      <td>58307.0</td>\n",
       "      <td>87919.0</td>\n",
       "      <td>280266.0</td>\n",
       "      <td>239.948472</td>\n",
       "      <td>5.252716</td>\n",
       "      <td>5.252716</td>\n",
       "    </tr>\n",
       "    <tr>\n",
       "      <th>4</th>\n",
       "      <td>2007</td>\n",
       "      <td>4</td>\n",
       "      <td>350250.466667</td>\n",
       "      <td>6.440235e+05</td>\n",
       "      <td>45958.0</td>\n",
       "      <td>53811.0</td>\n",
       "      <td>194004.0</td>\n",
       "      <td>238.653884</td>\n",
       "      <td>4.211531</td>\n",
       "      <td>4.211531</td>\n",
       "    </tr>\n",
       "  </tbody>\n",
       "</table>\n",
       "</div>"
      ],
      "text/plain": [
       "   Year  Month          Total     Total_sum    sub_1    sub_2     sub_3  \\\n",
       "0  2006     12  457765.033333  6.968880e+05  27460.0  48712.0  162951.0   \n",
       "1  2007      1  601322.900000  1.063262e+06  72455.0  66382.0  323102.0   \n",
       "2  2007      2  441926.466667  7.760505e+05  35733.0  65508.0  232883.0   \n",
       "3  2007      3  494800.733333  9.212927e+05  58307.0  87919.0  280266.0   \n",
       "4  2007      4  350250.466667  6.440235e+05  45958.0  53811.0  194004.0   \n",
       "\n",
       "      Voltage  Global_intensity  Global_reactive_power  \n",
       "0  241.441125          8.029956               8.029956  \n",
       "1  240.149795          6.063914               6.063914  \n",
       "2  239.871289          4.895550               4.895550  \n",
       "3  239.948472          5.252716               5.252716  \n",
       "4  238.653884          4.211531               4.211531  "
      ]
     },
     "execution_count": 169,
     "metadata": {},
     "output_type": "execute_result"
    }
   ],
   "source": [
    "# Cambiar nombre de Index para facilitar\n",
    "prom.index.rename(['Year','Month'], inplace = True)\n",
    "prom.reset_index(inplace = True)\n",
    "prom.head()"
   ]
  },
  {
   "cell_type": "code",
   "execution_count": 170,
   "metadata": {},
   "outputs": [
    {
     "data": {
      "text/html": [
       "<div>\n",
       "<style scoped>\n",
       "    .dataframe tbody tr th:only-of-type {\n",
       "        vertical-align: middle;\n",
       "    }\n",
       "\n",
       "    .dataframe tbody tr th {\n",
       "        vertical-align: top;\n",
       "    }\n",
       "\n",
       "    .dataframe thead th {\n",
       "        text-align: right;\n",
       "    }\n",
       "</style>\n",
       "<table border=\"1\" class=\"dataframe\">\n",
       "  <thead>\n",
       "    <tr style=\"text-align: right;\">\n",
       "      <th></th>\n",
       "      <th>Year</th>\n",
       "      <th>Month</th>\n",
       "      <th>Total</th>\n",
       "      <th>Total_sum</th>\n",
       "      <th>sub_1</th>\n",
       "      <th>sub_2</th>\n",
       "      <th>sub_3</th>\n",
       "      <th>Voltage</th>\n",
       "      <th>Global_intensity</th>\n",
       "      <th>Global_reactive_power</th>\n",
       "      <th>Date</th>\n",
       "    </tr>\n",
       "  </thead>\n",
       "  <tbody>\n",
       "    <tr>\n",
       "      <th>0</th>\n",
       "      <td>2006</td>\n",
       "      <td>12</td>\n",
       "      <td>457765.033333</td>\n",
       "      <td>6.968880e+05</td>\n",
       "      <td>27460.0</td>\n",
       "      <td>48712.0</td>\n",
       "      <td>162951.0</td>\n",
       "      <td>241.441125</td>\n",
       "      <td>8.029956</td>\n",
       "      <td>8.029956</td>\n",
       "      <td>2006-12</td>\n",
       "    </tr>\n",
       "    <tr>\n",
       "      <th>1</th>\n",
       "      <td>2007</td>\n",
       "      <td>1</td>\n",
       "      <td>601322.900000</td>\n",
       "      <td>1.063262e+06</td>\n",
       "      <td>72455.0</td>\n",
       "      <td>66382.0</td>\n",
       "      <td>323102.0</td>\n",
       "      <td>240.149795</td>\n",
       "      <td>6.063914</td>\n",
       "      <td>6.063914</td>\n",
       "      <td>2007-01</td>\n",
       "    </tr>\n",
       "    <tr>\n",
       "      <th>2</th>\n",
       "      <td>2007</td>\n",
       "      <td>2</td>\n",
       "      <td>441926.466667</td>\n",
       "      <td>7.760505e+05</td>\n",
       "      <td>35733.0</td>\n",
       "      <td>65508.0</td>\n",
       "      <td>232883.0</td>\n",
       "      <td>239.871289</td>\n",
       "      <td>4.895550</td>\n",
       "      <td>4.895550</td>\n",
       "      <td>2007-02</td>\n",
       "    </tr>\n",
       "    <tr>\n",
       "      <th>3</th>\n",
       "      <td>2007</td>\n",
       "      <td>3</td>\n",
       "      <td>494800.733333</td>\n",
       "      <td>9.212927e+05</td>\n",
       "      <td>58307.0</td>\n",
       "      <td>87919.0</td>\n",
       "      <td>280266.0</td>\n",
       "      <td>239.948472</td>\n",
       "      <td>5.252716</td>\n",
       "      <td>5.252716</td>\n",
       "      <td>2007-03</td>\n",
       "    </tr>\n",
       "    <tr>\n",
       "      <th>4</th>\n",
       "      <td>2007</td>\n",
       "      <td>4</td>\n",
       "      <td>350250.466667</td>\n",
       "      <td>6.440235e+05</td>\n",
       "      <td>45958.0</td>\n",
       "      <td>53811.0</td>\n",
       "      <td>194004.0</td>\n",
       "      <td>238.653884</td>\n",
       "      <td>4.211531</td>\n",
       "      <td>4.211531</td>\n",
       "      <td>2007-04</td>\n",
       "    </tr>\n",
       "  </tbody>\n",
       "</table>\n",
       "</div>"
      ],
      "text/plain": [
       "   Year  Month          Total     Total_sum    sub_1    sub_2     sub_3  \\\n",
       "0  2006     12  457765.033333  6.968880e+05  27460.0  48712.0  162951.0   \n",
       "1  2007      1  601322.900000  1.063262e+06  72455.0  66382.0  323102.0   \n",
       "2  2007      2  441926.466667  7.760505e+05  35733.0  65508.0  232883.0   \n",
       "3  2007      3  494800.733333  9.212927e+05  58307.0  87919.0  280266.0   \n",
       "4  2007      4  350250.466667  6.440235e+05  45958.0  53811.0  194004.0   \n",
       "\n",
       "      Voltage  Global_intensity  Global_reactive_power     Date  \n",
       "0  241.441125          8.029956               8.029956  2006-12  \n",
       "1  240.149795          6.063914               6.063914  2007-01  \n",
       "2  239.871289          4.895550               4.895550  2007-02  \n",
       "3  239.948472          5.252716               5.252716  2007-03  \n",
       "4  238.653884          4.211531               4.211531  2007-04  "
      ]
     },
     "execution_count": 170,
     "metadata": {},
     "output_type": "execute_result"
    }
   ],
   "source": [
    "## Crear la fecha\n",
    "prom['Date'] = pd.to_datetime((prom['Year'].map(str) + '-' + prom['Month'].map(str)))\n",
    "prom['Date'] = prom['Date'].dt.date.apply(lambda x: x.strftime('%Y-%m'))\n",
    "prom.head()"
   ]
  },
  {
   "cell_type": "code",
   "execution_count": 173,
   "metadata": {},
   "outputs": [
    {
     "data": {
      "text/plain": [
       "Index(['Year', 'Month', 'Total', 'Total_sum', 'sub_1', 'sub_2', 'sub_3',\n",
       "       'Voltage', 'Global_intensity', 'Global_reactive_power', 'Date'],\n",
       "      dtype='object')"
      ]
     },
     "execution_count": 173,
     "metadata": {},
     "output_type": "execute_result"
    }
   ],
   "source": [
    "prom.columns"
   ]
  },
  {
   "cell_type": "code",
   "execution_count": 171,
   "metadata": {
    "scrolled": false
   },
   "outputs": [
    {
     "data": {
      "image/png": "[encoded data removed]",
      "text/plain": [
       "<Figure size 1440x720 with 1 Axes>"
      ]
     },
     "metadata": {
      "needs_background": "light"
     },
     "output_type": "display_data"
    }
   ],
   "source": [
    "# Gráfco general\n",
    "\n",
    "prom.set_index('Date')[['Total','sub_1','sub_2','sub_3']].plot(figsize = (20,10))\n",
    "plt.xlabel(\"Date\", labelpad=15)\n",
    "plt.ylabel(\"Promedio - watts \", labelpad=15)\n",
    "plt.title(\"Promedio mensual (En WAtts) de energía consumida total vs subdivisiones\", y=1.02, fontsize=22);"
   ]
  },
  {
   "cell_type": "markdown",
   "metadata": {},
   "source": [
    "## Consumo\n",
    "\n",
    "En general:\n",
    "\n",
    "1. El consumo activo de energía que no relaciona ninguna de als 3 subdivisiones es mayor a las mismas\n",
    "2. La subdivisión 3 (Calentador de agua y aire condicionado) es el consumo más alto después del consumo activo, en algunos casos llegando a estar muy cerca del total, tiende a ser alejado al consumo general a finales de cada año o inicios del mismo.\n",
    "3. Las subdivisiones 2 y 3 tienen a ser parecidas y de consumo muy bajo\n",
    "\n",
    "\n",
    "## Calidad\n",
    "\n",
    "\n",
    "En términos de calidad, existían 2 tipos de datos *diferentes* a los esperados en la información:\n",
    "\n",
    "1. Nas contemplan el 1.25% de la información\n",
    "2. Signos (?), que estaban de igual manera unidos a los NA's\n",
    "\n",
    "Para este caso, eliminar tales datos no generan impacto en gran medida sobre la base, como resultado se obtiene un 98% de información lista para su explotación. Por otro lado, los datos no venían en su formato esperado, por lo que fue encesario cambiarlos de nuevo.\n",
    "\n",
    "\n",
    "## Manejo de información\n",
    "\n",
    "PAra mayor facilidad y entendimiento, se calculo el total mensual de dato que se considera importante analizar en primera medida, teniendo en cuenta las consideraciones de la base, se agrupo mensualmente como se menciona\n",
    "\n",
    "\n",
    "\n"
   ]
  },
  {
   "cell_type": "markdown",
   "metadata": {},
   "source": [
    "# Predicción"
   ]
  },
  {
   "cell_type": "markdown",
   "metadata": {},
   "source": [
    "Para este proceso se realizará a manera de predicción una serie de tiempo, asumiendo lo siguiente:\n",
    "\n",
    "1. Se manejará el tiempo en meses para su predicción, esto teniendo en cuenta que serían 47 datos."
   ]
  },
  {
   "cell_type": "code",
   "execution_count": 175,
   "metadata": {},
   "outputs": [],
   "source": [
    "## Paquetes\n",
    "\n",
    "from sklearn.model_selection import TimeSeriesSplit\n",
    "from sklearn.preprocessing import MinMaxScaler"
   ]
  },
  {
   "cell_type": "code",
   "execution_count": 177,
   "metadata": {},
   "outputs": [],
   "source": [
    "## Escalar información\n",
    "\n",
    "train = prom[['sub_1', 'sub_2', 'sub_3',\n",
    "       'Voltage', 'Global_intensity', 'Global_reactive_power']]\n",
    "\n",
    "escal = MinMaxScaler() ## Escalar\n",
    "escal.fit(train)\n",
    "train = escal.transform(train)"
   ]
  }
 ],
 "metadata": {
  "kernelspec": {
   "display_name": "Python 3",
   "language": "python",
   "name": "python3"
  },
  "language_info": {
   "codemirror_mode": {
    "name": "ipython",
    "version": 3
   },
   "file_extension": ".py",
   "mimetype": "text/x-python",
   "name": "python",
   "nbconvert_exporter": "python",
   "pygments_lexer": "ipython3",
   "version": "3.7.8"
  }
 },
 "nbformat": 4,
 "nbformat_minor": 4
}
